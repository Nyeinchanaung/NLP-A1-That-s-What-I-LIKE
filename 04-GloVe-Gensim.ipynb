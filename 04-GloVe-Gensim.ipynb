{
 "cells": [
  {
   "cell_type": "markdown",
   "metadata": {
    "id": "kFVBR4werm5D"
   },
   "source": [
    "# GloVe (Gensim)\n",
    "\n",
    "For looking at word vectors, we'll use **Gensim**. **Gensim** isn't really a deep learning package. It's a package for for word and text similarity modeling, which started with (LDA-style) topic models and grew into SVD and neural word representations. But its efficient and scalable, and quite widely used.   We gonna use **GloVe** embeddings, downloaded at [the Glove page](https://nlp.stanford.edu/projects/glove/). They're inside [this zip file](https://nlp.stanford.edu/data/glove.6B.zip)"
   ]
  },
  {
   "cell_type": "code",
   "execution_count": 27,
   "metadata": {
    "executionInfo": {
     "elapsed": 321,
     "status": "ok",
     "timestamp": 1737279037503,
     "user": {
      "displayName": "Nyein Chan Aung",
      "userId": "10271779707834005263"
     },
     "user_tz": -420
    },
    "id": "qLie9l07rm5H"
   },
   "outputs": [],
   "source": [
    "import numpy as np\n",
    "from gensim.test.utils import datapath\n",
    "from gensim.models import KeyedVectors\n",
    "from gensim.scripts.glove2word2vec import glove2word2vec\n"
   ]
  },
  {
   "cell_type": "code",
   "execution_count": 2,
   "metadata": {
    "colab": {
     "base_uri": "https://localhost:8080/"
    },
    "executionInfo": {
     "elapsed": 19510,
     "status": "ok",
     "timestamp": 1737277040846,
     "user": {
      "displayName": "Nyein Chan Aung",
      "userId": "10271779707834005263"
     },
     "user_tz": -420
    },
    "id": "biEMBIZfx5SQ",
    "outputId": "844b1e3a-0840-4646-ac3b-c511e9b31452"
   },
   "outputs": [
    {
     "name": "stdout",
     "output_type": "stream",
     "text": [
      "Mounted at /content/drive\n"
     ]
    }
   ],
   "source": [
    "#connect to google drive\n",
    "from google.colab import drive\n",
    "drive.mount('/content/drive')"
   ]
  },
  {
   "cell_type": "code",
   "execution_count": 3,
   "metadata": {
    "executionInfo": {
     "elapsed": 305,
     "status": "ok",
     "timestamp": 1737277041149,
     "user": {
      "displayName": "Nyein Chan Aung",
      "userId": "10271779707834005263"
     },
     "user_tz": -420
    },
    "id": "WeVVe0Xpx9du"
   },
   "outputs": [],
   "source": [
    "#import os\n",
    "import os\n",
    "\n",
    "os.chdir('/content/drive/MyDrive/_NLP/NLP-A1-That-s-What-I-LIKE-st125553')"
   ]
  },
  {
   "cell_type": "code",
   "execution_count": 6,
   "metadata": {
    "colab": {
     "base_uri": "https://localhost:8080/"
    },
    "executionInfo": {
     "elapsed": 8575,
     "status": "ok",
     "timestamp": 1737277313591,
     "user": {
      "displayName": "Nyein Chan Aung",
      "userId": "10271779707834005263"
     },
     "user_tz": -420
    },
    "id": "gZcgNjHuyOrr",
    "outputId": "90e663ec-7314-456a-8881-02d42fe2d5b9"
   },
   "outputs": [
    {
     "name": "stdout",
     "output_type": "stream",
     "text": [
      "Downloading from https://www.kaggle.com/api/v1/datasets/download/danielwillgeorge/glove6b100dtxt?dataset_version_number=1...\n"
     ]
    },
    {
     "name": "stderr",
     "output_type": "stream",
     "text": [
      "100%|██████████| 131M/131M [00:01<00:00, 117MB/s]"
     ]
    },
    {
     "name": "stdout",
     "output_type": "stream",
     "text": [
      "Extracting files...\n"
     ]
    },
    {
     "name": "stderr",
     "output_type": "stream",
     "text": [
      "\n"
     ]
    },
    {
     "name": "stdout",
     "output_type": "stream",
     "text": [
      "Path to dataset files: /root/.cache/kagglehub/datasets/danielwillgeorge/glove6b100dtxt/versions/1\n"
     ]
    }
   ],
   "source": [
    "# download glove.6B.100d.txt\n",
    "import kagglehub\n",
    "\n",
    "# Download latest version\n",
    "path = kagglehub.dataset_download(\"danielwillgeorge/glove6b100dtxt\")\n",
    "\n",
    "print(\"Path to dataset files:\", path)"
   ]
  },
  {
   "cell_type": "code",
   "execution_count": 7,
   "metadata": {
    "executionInfo": {
     "elapsed": 34894,
     "status": "ok",
     "timestamp": 1737277361544,
     "user": {
      "displayName": "Nyein Chan Aung",
      "userId": "10271779707834005263"
     },
     "user_tz": -420
    },
    "id": "GJa-6_36yAdm"
   },
   "outputs": [],
   "source": [
    "#you have to put this file in some python/gensim directory; just run it and it will inform where to put....\n",
    "\n",
    "glove_file = datapath('/root/.cache/kagglehub/datasets/danielwillgeorge/glove6b100dtxt/versions/1/glove.6B.100d.txt')  #search on the google\n",
    "model = KeyedVectors.load_word2vec_format(glove_file, binary=False, no_header=True)"
   ]
  },
  {
   "cell_type": "code",
   "execution_count": 12,
   "metadata": {
    "colab": {
     "base_uri": "https://localhost:8080/"
    },
    "executionInfo": {
     "elapsed": 289,
     "status": "ok",
     "timestamp": 1737277567596,
     "user": {
      "displayName": "Nyein Chan Aung",
      "userId": "10271779707834005263"
     },
     "user_tz": -420
    },
    "id": "jGFF4l0bz3nR",
    "outputId": "d85e79fa-c7d8-416d-aebf-0bea74afcc60"
   },
   "outputs": [
    {
     "data": {
      "text/plain": [
       "(100,)"
      ]
     },
     "execution_count": 12,
     "metadata": {},
     "output_type": "execute_result"
    }
   ],
   "source": [
    "#return the vectors\n",
    "model['coffee'].shape"
   ]
  },
  {
   "cell_type": "markdown",
   "metadata": {
    "id": "UXV_Cfef2r47"
   },
   "source": [
    "## Testing"
   ]
  },
  {
   "cell_type": "markdown",
   "metadata": {
    "id": "joBKTUU-2xH1"
   },
   "source": [
    "### Semantic Test"
   ]
  },
  {
   "cell_type": "code",
   "execution_count": 13,
   "metadata": {
    "executionInfo": {
     "elapsed": 656,
     "status": "ok",
     "timestamp": 1737277599157,
     "user": {
      "displayName": "Nyein Chan Aung",
      "userId": "10271779707834005263"
     },
     "user_tz": -420
    },
    "id": "OJm-6vns0GNX"
   },
   "outputs": [],
   "source": [
    "semantic_file = \"data/word-test-semantic.txt\"\n",
    "# open file\n",
    "with open(semantic_file, \"r\") as file:\n",
    "    sem_file = file.readlines()\n",
    "    #send semantic into vector\n",
    "\n",
    "semantic = []\n",
    "for sent in sem_file:\n",
    "    semantic.append(sent.strip())\n",
    "\n",
    "#semantic"
   ]
  },
  {
   "cell_type": "code",
   "execution_count": 14,
   "metadata": {
    "executionInfo": {
     "elapsed": 8302,
     "status": "ok",
     "timestamp": 1737278360939,
     "user": {
      "displayName": "Nyein Chan Aung",
      "userId": "10271779707834005263"
     },
     "user_tz": -420
    },
    "id": "67iLNh4F0IWU"
   },
   "outputs": [],
   "source": [
    "sem_count = len(semantic)\n",
    "sem_correct = 0\n",
    "#sem_total\n",
    "\n",
    "for sent in semantic:\n",
    "    sent = sent.lower()\n",
    "    words = sent.split(\" \")\n",
    "\n",
    "    try:\n",
    "        result = model.most_similar(positive=[words[1], words[2]], negative=[words[0]])[0][0]\n",
    "    except:\n",
    "        result = \"<UNK>\"\n",
    "\n",
    "    if result == words[3]:\n",
    "        sem_correct += 1"
   ]
  },
  {
   "cell_type": "code",
   "execution_count": 16,
   "metadata": {
    "colab": {
     "base_uri": "https://localhost:8080/"
    },
    "executionInfo": {
     "elapsed": 329,
     "status": "ok",
     "timestamp": 1737278480388,
     "user": {
      "displayName": "Nyein Chan Aung",
      "userId": "10271779707834005263"
     },
     "user_tz": -420
    },
    "id": "q2mCjzNX3BD3",
    "outputId": "ff35faa8-8cc9-4781-b24e-d4721c5b45b6"
   },
   "outputs": [
    {
     "name": "stdout",
     "output_type": "stream",
     "text": [
      "Semantic test result: 0.5316\n"
     ]
    }
   ],
   "source": [
    "sem_accuracy = sem_correct / sem_count\n",
    "print(f\"Semantic test result: {sem_accuracy:2.4f}\")"
   ]
  },
  {
   "cell_type": "markdown",
   "metadata": {
    "id": "399vhwmb3hDj"
   },
   "source": [
    "### Syntatic Test"
   ]
  },
  {
   "cell_type": "code",
   "execution_count": 17,
   "metadata": {
    "executionInfo": {
     "elapsed": 664,
     "status": "ok",
     "timestamp": 1737278516638,
     "user": {
      "displayName": "Nyein Chan Aung",
      "userId": "10271779707834005263"
     },
     "user_tz": -420
    },
    "id": "20rsezX53g0N"
   },
   "outputs": [],
   "source": [
    "syntatic_file = \"data/word-test-syntatic.txt\"\n",
    "# open file\n",
    "with open(syntatic_file, \"r\") as file:\n",
    "    syn_file = file.readlines()\n",
    "\n",
    "syntatic = []\n",
    "for sent in syn_file:\n",
    "    syntatic.append(sent.strip())\n",
    "#syntatic"
   ]
  },
  {
   "cell_type": "code",
   "execution_count": 18,
   "metadata": {
    "executionInfo": {
     "elapsed": 36669,
     "status": "ok",
     "timestamp": 1737278650450,
     "user": {
      "displayName": "Nyein Chan Aung",
      "userId": "10271779707834005263"
     },
     "user_tz": -420
    },
    "id": "dxvHfn5y3V7L"
   },
   "outputs": [],
   "source": [
    "syn_count = len(syntatic)\n",
    "syn_correct = 0\n",
    "\n",
    "for sent in syntatic:\n",
    "    sent = sent.lower()\n",
    "    words = sent.split(\" \")\n",
    "\n",
    "    try:\n",
    "        result = model.most_similar(positive=[words[1], words[2]], negative=[words[0]])[0][0]\n",
    "    except:\n",
    "        result = \"<UNK>\"\n",
    "\n",
    "    if result == words[3]:\n",
    "        syn_correct += 1"
   ]
  },
  {
   "cell_type": "code",
   "execution_count": 19,
   "metadata": {
    "colab": {
     "base_uri": "https://localhost:8080/"
    },
    "executionInfo": {
     "elapsed": 5,
     "status": "ok",
     "timestamp": 1737278650451,
     "user": {
      "displayName": "Nyein Chan Aung",
      "userId": "10271779707834005263"
     },
     "user_tz": -420
    },
    "id": "t7sMf3Ns37eL",
    "outputId": "c4aae4f1-6df4-423d-9f94-bb34785f80be"
   },
   "outputs": [
    {
     "name": "stdout",
     "output_type": "stream",
     "text": [
      "Syntatic accuracy: 0.55\n",
      "Syntatic correct: 865\n",
      "Syntatic count: 1560\n"
     ]
    }
   ],
   "source": [
    "syn_accuracy = syn_correct / syn_count\n",
    "print(f\"Syntatic accuracy: {syn_accuracy:2.2f}\")\n",
    "print(f\"Syntatic correct: {syn_correct}\")\n",
    "print(f\"Syntatic count: {syn_count}\")"
   ]
  },
  {
   "cell_type": "markdown",
   "metadata": {
    "id": "fnIg50bo4Qzf"
   },
   "source": [
    "### Similarity Test\n"
   ]
  },
  {
   "cell_type": "code",
   "execution_count": 20,
   "metadata": {
    "executionInfo": {
     "elapsed": 641,
     "status": "ok",
     "timestamp": 1737278708855,
     "user": {
      "displayName": "Nyein Chan Aung",
      "userId": "10271779707834005263"
     },
     "user_tz": -420
    },
    "id": "6Wbnv2RC4Red"
   },
   "outputs": [],
   "source": [
    "similarity_file = \"data/wordsim353_sim_rel/wordsim_similarity_goldstandard.txt\"\n",
    "# open file\n",
    "with open(similarity_file, \"r\") as file:\n",
    "    sim_file = file.readlines()\n",
    "\n",
    "similarity = []\n",
    "for sent in sim_file:\n",
    "    similarity.append(sent.strip())\n",
    "#syntatic"
   ]
  },
  {
   "cell_type": "code",
   "execution_count": 29,
   "metadata": {
    "colab": {
     "base_uri": "https://localhost:8080/"
    },
    "executionInfo": {
     "elapsed": 289,
     "status": "ok",
     "timestamp": 1737279066234,
     "user": {
      "displayName": "Nyein Chan Aung",
      "userId": "10271779707834005263"
     },
     "user_tz": -420
    },
    "id": "Vjfyu5l65GrG",
    "outputId": "5a30a244-2665-486f-fa5a-af4072572bc3"
   },
   "outputs": [
    {
     "data": {
      "text/plain": [
       "100"
      ]
     },
     "execution_count": 29,
     "metadata": {},
     "output_type": "execute_result"
    }
   ],
   "source": [
    "# default_vector = np.zeros(model.vector_size)\n",
    "# len(default_vector)"
   ]
  },
  {
   "cell_type": "code",
   "execution_count": 37,
   "metadata": {
    "executionInfo": {
     "elapsed": 322,
     "status": "ok",
     "timestamp": 1737279492223,
     "user": {
      "displayName": "Nyein Chan Aung",
      "userId": "10271779707834005263"
     },
     "user_tz": -420
    },
    "id": "XzpNXH3x4V02"
   },
   "outputs": [],
   "source": [
    "# def similarity_test(model, test_data):\n",
    "#     words = test_data.split(\"\\t\")\n",
    "\n",
    "#     embed0 = np.array(model.get_vector(words[0].strip()))\n",
    "#     embed1 = np.array(model.get_vector(words[1].strip()))\n",
    "\n",
    "#     model_result = embed1 @ embed0.T\n",
    "#     sim_result = float(words[2].strip())\n",
    "\n",
    "#     return sim_result, model_result"
   ]
  },
  {
   "cell_type": "code",
   "execution_count": 39,
   "metadata": {
    "executionInfo": {
     "elapsed": 405,
     "status": "ok",
     "timestamp": 1737279499084,
     "user": {
      "displayName": "Nyein Chan Aung",
      "userId": "10271779707834005263"
     },
     "user_tz": -420
    },
    "id": "AlMr6-Uv6hrm"
   },
   "outputs": [],
   "source": [
    "default_vector = np.zeros(model.vector_size)\n",
    "\n",
    "def similarity_test(model, test_data):\n",
    "    words = test_data.lower().split(\"\\t\")\n",
    "\n",
    "    default_vector = np.zeros(model.vector_size)\n",
    "    try:\n",
    "        embed0 = model.get_vector(words[0].strip())\n",
    "        embed1 = model.get_vector(words[1].strip())\n",
    "    except:\n",
    "        embed0 = default_vector\n",
    "        embed1 = default_vector\n",
    "\n",
    "\n",
    "    similarity_model = embed1 @ embed0.T\n",
    "    similarity_provided = float(words[2].strip())\n",
    "\n",
    "    return similarity_provided, similarity_model"
   ]
  },
  {
   "cell_type": "code",
   "execution_count": 40,
   "metadata": {
    "executionInfo": {
     "elapsed": 315,
     "status": "ok",
     "timestamp": 1737279500966,
     "user": {
      "displayName": "Nyein Chan Aung",
      "userId": "10271779707834005263"
     },
     "user_tz": -420
    },
    "id": "M-e3j7fF58-F"
   },
   "outputs": [],
   "source": [
    "sim_scores = []\n",
    "model_scores = []\n",
    "for sent in similarity:\n",
    "    sim_result, model_result = similarity_test(model, sent)\n",
    "\n",
    "    sim_scores.append(sim_result)\n",
    "    model_scores.append(model_result)"
   ]
  },
  {
   "cell_type": "code",
   "execution_count": 41,
   "metadata": {
    "colab": {
     "base_uri": "https://localhost:8080/"
    },
    "executionInfo": {
     "elapsed": 358,
     "status": "ok",
     "timestamp": 1737279502857,
     "user": {
      "displayName": "Nyein Chan Aung",
      "userId": "10271779707834005263"
     },
     "user_tz": -420
    },
    "id": "4dmVpf_y5_fh",
    "outputId": "13e2c564-0033-4ec6-dbc0-e534a88474d7"
   },
   "outputs": [
    {
     "name": "stdout",
     "output_type": "stream",
     "text": [
      "The correlation result is 0.54.\n"
     ]
    }
   ],
   "source": [
    "from scipy.stats import spearmanr\n",
    "\n",
    "corr = spearmanr(sim_scores, model_scores)[0]\n",
    "\n",
    "print(f\"The correlation result is {corr:2.2f}.\")"
   ]
  },
  {
   "cell_type": "markdown",
   "metadata": {
    "id": "6SdaFb9j7cxA"
   },
   "source": [
    "## Save the result"
   ]
  },
  {
   "cell_type": "code",
   "execution_count": 58,
   "metadata": {
    "colab": {
     "base_uri": "https://localhost:8080/"
    },
    "executionInfo": {
     "elapsed": 1511,
     "status": "ok",
     "timestamp": 1737279903845,
     "user": {
      "displayName": "Nyein Chan Aung",
      "userId": "10271779707834005263"
     },
     "user_tz": -420
    },
    "id": "bYP-OvUk7e-G",
    "outputId": "add8c174-33db-4b37-b9d5-7d0c6c7ec7f6"
   },
   "outputs": [
    {
     "data": {
      "text/plain": [
       "[('james', 0.8570922017097473),\n",
       " ('george', 0.8181617259979248),\n",
       " ('thomas', 0.8109301328659058),\n",
       " ('william', 0.8084547519683838),\n",
       " ('paul', 0.8058123588562012),\n",
       " ('henry', 0.7886716723442078),\n",
       " ('edward', 0.7804422378540039),\n",
       " ('peter', 0.7743206024169922),\n",
       " ('richard', 0.7710520625114441),\n",
       " ('robert', 0.767145037651062)]"
      ]
     },
     "execution_count": 58,
     "metadata": {},
     "output_type": "execute_result"
    }
   ],
   "source": [
    "import pickle\n",
    "\n",
    "# Save the model\n",
    "pickle.dump(model,open('app/models/gensim.model','wb'))\n",
    "\n",
    "load_model = pickle.load(open('app/models/gensim.model', 'rb'))\n",
    "load_model.most_similar('james')"
   ]
  }
 ],
 "metadata": {
  "colab": {
   "provenance": [],
   "toc_visible": true
  },
  "kernelspec": {
   "display_name": "dsai",
   "language": "python",
   "name": "python3"
  },
  "language_info": {
   "codemirror_mode": {
    "name": "ipython",
    "version": 3
   },
   "file_extension": ".py",
   "mimetype": "text/x-python",
   "name": "python",
   "nbconvert_exporter": "python",
   "pygments_lexer": "ipython3",
   "version": "3.9.6"
  },
  "vscode": {
   "interpreter": {
    "hash": "0f2c79af21be9d001248940c049b6176cf8bfb45cabf7aa85848f5cea0f590f6"
   }
  }
 },
 "nbformat": 4,
 "nbformat_minor": 0
}
